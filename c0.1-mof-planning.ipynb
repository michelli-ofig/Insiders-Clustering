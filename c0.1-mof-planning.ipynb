{
 "cells": [
  {
   "cell_type": "markdown",
   "id": "f73f2794",
   "metadata": {
    "ExecuteTime": {
     "end_time": "2021-03-31T00:38:29.041404Z",
     "start_time": "2021-03-31T00:38:29.037973Z"
    }
   },
   "source": [
    "# PA005: High Value Customer Identification "
   ]
  },
  {
   "cell_type": "markdown",
   "id": "228a3a36",
   "metadata": {
    "ExecuteTime": {
     "end_time": "2021-03-31T00:38:30.008696Z",
     "start_time": "2021-03-31T00:38:30.006586Z"
    }
   },
   "source": [
    "# 0.0. Planejamento da Solução (IOT) "
   ]
  },
  {
   "cell_type": "markdown",
   "id": "b2933d71",
   "metadata": {},
   "source": [
    "### Input - Entrada  "
   ]
  },
  {
   "cell_type": "markdown",
   "id": "67ebc1a8",
   "metadata": {},
   "source": [
    "#### 1. Problema do negócio:\n",
    "       -Selecionar os clientes mais valiosos para integrar um programa de fidelidade\n",
    "#### 2. Conjunto de dados:\n",
    "       -Vendas de um e-commerce online durante um ano"
   ]
  },
  {
   "cell_type": "markdown",
   "id": "7505e052",
   "metadata": {},
   "source": [
    "### Output - Saída "
   ]
  },
  {
   "cell_type": "markdown",
   "id": "ab125e23",
   "metadata": {},
   "source": [
    "1. A indicação das pessoas que farão parte do programa Insiders\n",
    "    -Lista: client_id | is_insiders\n",
    "        10323 | yes/1\n",
    "        10654 | no/2\n",
    "2. Relatório com as repostas das perguntas de negócio\n",
    "        1 - Quem são as pessoas elegíveis para participar do programa de Insiders ?\n",
    "        2 - Quantos clientes farão parte do grupo?\n",
    "        3 - Quais as principais características desses clientes ?\n",
    "        4 - Qual a porcentagem de contribuição do faturamento, vinda do Insiders ?\n",
    "        5 - Qual a expectativa de faturamento desse grupo para os próximos meses ?\n",
    "        6 - Quais as condições para uma pessoa ser elegível ao Insiders ?\n",
    "        7 - Quais as condições para uma pessoa ser removida do Insiders ?\n",
    "        8 - Qual a garantia que o programa Insiders é melhor que o restante da base ?\n",
    "        9 - Quais ações o time de marketing pode realizar para aumentar o faturamento?"
   ]
  },
  {
   "cell_type": "markdown",
   "id": "6e8b5377",
   "metadata": {},
   "source": [
    "### Task - Tarefas "
   ]
  },
  {
   "cell_type": "markdown",
   "id": "4d86f20e",
   "metadata": {},
   "source": [
    "1. Quem são as pessoas elegíveis para participar do programa de Insiders?\n",
    "   - O que é ser elegível? O que são clientes de maior \"valor\"? \n",
    "   - Faturamento:\n",
    "       - Alto ticket médio\n",
    "       - Alto LTV\n",
    "       - Baixo Recência\n",
    "       - Alto Basket Size\n",
    "       - Baixa Probabilidade de Churn\n",
    "       - Alta Previsão LTV\n",
    "       - Alta Propensão de Compras \n",
    "       \n",
    "                \n",
    "    - Custo:\n",
    "       - Baixa taixa de devolução   \n",
    "       \n",
    "    - Experiência de compra:\n",
    "       - Média alta das avaliações \n",
    "       \n",
    "              \n",
    "2. Quantos clientes farão parte do grupo?\n",
    "     - Número total de tickets\n",
    "     - % do grupo Insiders\n",
    "          \n",
    "3. Quais as principais características desses clientes? \n",
    "     - Escrever características do cliente:\n",
    "       - Idade\n",
    "       - Localização\n",
    "     - Escrever características do consumo:\n",
    "       - Atributos de Clusterização\n",
    "    \n",
    "4. Qual a porcentagem de contribuição do faturamento, vinda do Insiders?\n",
    "     - Faturamento total do ano\n",
    "     - Faturamento do grupo Insiders\n",
    "     \n",
    "5. Qual a expectativa de faturamento desse grupo para os próximos meses?\n",
    "      - LTV do grupo Insiders\n",
    "      - Análise de Cohort\n",
    "\n",
    "6. Quais as condições para uma pessoa ser elegível ao Insiders?\n",
    "      - Definir a periodicidade (1 mês, 3 meses)\n",
    "      - A pessoa ser similar ou parecido com uma pessoa do grupo\n",
    "      \n",
    "7. Quais as condições para uma pessoa ser removida do Insiders?\n",
    "      - Definir a periodicidade (1 mês, 3 meses)\n",
    "      - A pessoa ser dissimilar ou não-parecido com uma pessoa do grupo\n",
    "      \n",
    "8. Qual a garantia que o programa Insiders é melhor que o restante da base?\n",
    "      - Teste A/B\n",
    "      - Teste A/B Bayesiano\n",
    "      - Teste de Hipóteses\n",
    "      \n",
    "\n",
    "9. Quais ações o time de marketing pode realizar para aumentar o faturamento?\n",
    "      - Desconto\n",
    "      - Preferência de compra\n",
    "      - Frete\n",
    "      - Visita a empresa\n",
    "     "
   ]
  },
  {
   "cell_type": "code",
   "execution_count": null,
   "id": "60e2f310",
   "metadata": {},
   "outputs": [],
   "source": []
  },
  {
   "cell_type": "code",
   "execution_count": null,
   "id": "be7291bb",
   "metadata": {},
   "outputs": [],
   "source": []
  },
  {
   "cell_type": "code",
   "execution_count": null,
   "id": "c4117646",
   "metadata": {},
   "outputs": [],
   "source": []
  },
  {
   "cell_type": "code",
   "execution_count": null,
   "id": "dacc39d8",
   "metadata": {},
   "outputs": [],
   "source": []
  },
  {
   "cell_type": "code",
   "execution_count": null,
   "id": "05a5d01b",
   "metadata": {},
   "outputs": [],
   "source": []
  },
  {
   "cell_type": "code",
   "execution_count": null,
   "id": "3d3abb24",
   "metadata": {},
   "outputs": [],
   "source": []
  },
  {
   "cell_type": "code",
   "execution_count": null,
   "id": "5df2cf0c",
   "metadata": {},
   "outputs": [],
   "source": []
  }
 ],
 "metadata": {
  "kernelspec": {
   "display_name": "Python 3",
   "language": "python",
   "name": "python3"
  },
  "language_info": {
   "codemirror_mode": {
    "name": "ipython",
    "version": 3
   },
   "file_extension": ".py",
   "mimetype": "text/x-python",
   "name": "python",
   "nbconvert_exporter": "python",
   "pygments_lexer": "ipython3",
   "version": "3.8.8"
  }
 },
 "nbformat": 4,
 "nbformat_minor": 5
}
